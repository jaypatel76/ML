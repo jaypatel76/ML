{
 "cells": [
  {
   "cell_type": "markdown",
   "metadata": {},
   "source": [
    "# List"
   ]
  },
  {
   "cell_type": "code",
   "execution_count": 1,
   "metadata": {},
   "outputs": [
    {
     "name": "stdout",
     "output_type": "stream",
     "text": [
      "['HP', 'Yash', 'Sachin', 'Rutvik', 'Brijesh']\n"
     ]
    }
   ],
   "source": [
    "names = ['HP', 'Yash', 'Sachin', 'Rutvik', 'Brijesh']\n",
    "print(names)"
   ]
  },
  {
   "cell_type": "code",
   "execution_count": 2,
   "metadata": {},
   "outputs": [],
   "source": [
    "names[0] = 'Henil'"
   ]
  },
  {
   "cell_type": "code",
   "execution_count": 3,
   "metadata": {},
   "outputs": [
    {
     "name": "stdout",
     "output_type": "stream",
     "text": [
      "['Henil', 'Yash', 'Sachin']\n",
      "['Sachin', 'Rutvik', 'Brijesh']\n"
     ]
    }
   ],
   "source": [
    "print(names[0:3])\n",
    "print(names[2:])"
   ]
  },
  {
   "cell_type": "code",
   "execution_count": 4,
   "metadata": {},
   "outputs": [
    {
     "name": "stdout",
     "output_type": "stream",
     "text": [
      "[5, 5, 5, 5, 5, 5, 5, 5, 5, 5, 5, 5, 5, 5, 5, 5, 5, 5, 5, 5]\n"
     ]
    }
   ],
   "source": [
    "li = [5]*20\n",
    "print(li)"
   ]
  },
  {
   "cell_type": "code",
   "execution_count": 5,
   "metadata": {},
   "outputs": [
    {
     "name": "stdout",
     "output_type": "stream",
     "text": [
      "['Kira', 'Levi', 'Edward', 'Alphonse', 'Armin', 'Saitama', 'Genos']\n"
     ]
    }
   ],
   "source": [
    "names = ['Kira', 'Edward', 'Alphonse', 'Armin', 'Saitama']\n",
    "\n",
    "names.append('Genos')\n",
    "names.insert(1, 'Levi')\n",
    "print(names)"
   ]
  },
  {
   "cell_type": "code",
   "execution_count": 6,
   "metadata": {},
   "outputs": [
    {
     "name": "stdout",
     "output_type": "stream",
     "text": [
      "length:  7\n"
     ]
    }
   ],
   "source": [
    "print(\"length: \", len(names))"
   ]
  },
  {
   "cell_type": "code",
   "execution_count": 7,
   "metadata": {},
   "outputs": [
    {
     "name": "stdout",
     "output_type": "stream",
     "text": [
      "['Kira', 'Levi', 'Edward', 'Alphonse', 'Saitama', 'Genos']\n"
     ]
    }
   ],
   "source": [
    "names.remove(\"Armin\")\n",
    "print(names)"
   ]
  },
  {
   "cell_type": "code",
   "execution_count": 8,
   "metadata": {},
   "outputs": [
    {
     "name": "stdout",
     "output_type": "stream",
     "text": [
      "['Kira', 'Levi', 'Edward', 'Alphonse', 'Genos']\n"
     ]
    }
   ],
   "source": [
    "names.pop(4)\n",
    "print(names)"
   ]
  },
  {
   "cell_type": "code",
   "execution_count": 9,
   "metadata": {},
   "outputs": [
    {
     "name": "stdout",
     "output_type": "stream",
     "text": [
      "['Kira', 'Edward', 'Alphonse', 'Genos']\n"
     ]
    }
   ],
   "source": [
    "del names[1]\n",
    "print(names)"
   ]
  },
  {
   "cell_type": "code",
   "execution_count": 10,
   "metadata": {},
   "outputs": [
    {
     "name": "stdout",
     "output_type": "stream",
     "text": [
      "['Kira', 'Edward', 'Alphonse', 'Genos']\n"
     ]
    }
   ],
   "source": [
    "mynames = names.copy()\n",
    "print(mynames)"
   ]
  },
  {
   "cell_type": "code",
   "execution_count": 11,
   "metadata": {},
   "outputs": [
    {
     "name": "stdout",
     "output_type": "stream",
     "text": [
      "['Kira', 'Edward', 'Alphonse', 'Genos', 5, 2, 1, 7, 3]\n"
     ]
    }
   ],
   "source": [
    "digits = [5, 2, 1, 7, 3]\n",
    "add = names + digits\n",
    "print(add)"
   ]
  },
  {
   "cell_type": "code",
   "execution_count": 12,
   "metadata": {},
   "outputs": [
    {
     "name": "stdout",
     "output_type": "stream",
     "text": [
      "[3, 7, 1, 2, 5]\n"
     ]
    }
   ],
   "source": [
    "digits.reverse()\n",
    "print(digits)"
   ]
  },
  {
   "cell_type": "code",
   "execution_count": 13,
   "metadata": {},
   "outputs": [
    {
     "name": "stdout",
     "output_type": "stream",
     "text": [
      "[1, 2, 3, 5, 7]\n"
     ]
    }
   ],
   "source": [
    "digits.sort()\n",
    "print(digits)"
   ]
  }
 ],
 "metadata": {
  "kernelspec": {
   "display_name": "Python 3",
   "language": "python",
   "name": "python3"
  },
  "language_info": {
   "codemirror_mode": {
    "name": "ipython",
    "version": 3
   },
   "file_extension": ".py",
   "mimetype": "text/x-python",
   "name": "python",
   "nbconvert_exporter": "python",
   "pygments_lexer": "ipython3",
   "version": "3.8.2"
  }
 },
 "nbformat": 4,
 "nbformat_minor": 4
}
